{
 "metadata": {
  "name": "Untitled0"
 },
 "nbformat": 3,
 "nbformat_minor": 0,
 "worksheets": [
  {
   "cells": [
    {
     "cell_type": "code",
     "collapsed": false,
     "input": [
      "%pylab inline"
     ],
     "language": "python",
     "metadata": {},
     "outputs": [
      {
       "output_type": "stream",
       "stream": "stdout",
       "text": [
        "\n",
        "Welcome to pylab, a matplotlib-based Python environment [backend: module://IPython.zmq.pylab.backend_inline].\n",
        "For more information, type 'help(pylab)'.\n"
       ]
      }
     ],
     "prompt_number": 1
    },
    {
     "cell_type": "markdown",
     "metadata": {},
     "source": [
      "# Monte carlo of time dependant background emission of QD"
     ]
    },
    {
     "cell_type": "markdown",
     "metadata": {},
     "source": [
      "The background emission will come from the wires and wells, thus the lifetime of the backgorund emission will be very short compared to the exciton and biexciton lifetime.\n",
      "\n",
      "The fraction of the background photons that can replace quantum dot photons is $\\gamma = \\frac{1-k}{2k}$, where $1 - k$ is the background emission fraction.\n",
      "\n",
      "If background emission occurs (with probability $\\gamma$) then it will replace the first quantum dot photon almost always, so if an exciton photon only is emitted it will be replaced, or if a biphoton is emitted then the first will be replaced."
     ]
    },
    {
     "cell_type": "code",
     "collapsed": false,
     "input": [
      "ptau = 2.\n",
      "xtau = 1.\n",
      "xxtau = 0.5\n",
      "bgtau = 0.1\n",
      "k = 0.95\n",
      "g = (1-k)/(2*k)\n",
      "s = 500\n",
      "\n",
      "T = ptau\n",
      "txx = xxtau\n",
      "tx = xtau\n",
      "tb = bgtau\n",
      "\n",
      "def frac_is_good(t, tx, txx, tb, T):\n",
      "    return_val = np.exp(-t/tx) / (g*(tx/tb)*np.exp(-(T+t)/tb) + np.exp(-t/tx))*(np.exp(- T/txx ) / (g*(txx/tb) + np.exp( - T/txx) )) \n",
      "    return return_val\n",
      "\n",
      "x(txx, tx, txx, tb, )"
     ],
     "language": "python",
     "metadata": {},
     "outputs": [
      {
       "output_type": "pyout",
       "prompt_number": 172,
       "text": [
        "1.5664767285148087e-08"
       ]
      }
     ],
     "prompt_number": 172
    },
    {
     "cell_type": "code",
     "collapsed": false,
     "input": [
      "c, b_e = np.histogram( [x(xxl[i], xl[i], xxl[i], bgt[i], pt[i]) for i in xrange(s)] )\n",
      "plt.plot(b_e[0:b_e.size - 1], c)"
     ],
     "language": "python",
     "metadata": {},
     "outputs": [
      {
       "output_type": "pyout",
       "prompt_number": 164,
       "text": [
        "[<matplotlib.lines.Line2D at 0x10ea81810>]"
       ]
      },
      {
       "output_type": "display_data",
       "png": "[encoded data removed]"
      }
     ],
     "prompt_number": 164
    },
    {
     "cell_type": "code",
     "collapsed": false,
     "input": [
      "pt = np.random.exponential(ptau - xtau, s)\n",
      "xl = np.random.exponential(xtau, s)\n",
      "xxl = np.random.exponential(xxtau, s)\n",
      "bgt = np.random.exponential(bgtau, s)"
     ],
     "language": "python",
     "metadata": {},
     "outputs": [],
     "prompt_number": 135
    },
    {
     "cell_type": "code",
     "collapsed": false,
     "input": [
      "xs = [x(i, 1, 1, .1, 1) for i in xrange(s)]\n",
      "\n",
      "plt.plot(range(s), xs)\n",
      "plt.ylim([0, 1])"
     ],
     "language": "python",
     "metadata": {},
     "outputs": [
      {
       "output_type": "pyout",
       "prompt_number": 153,
       "text": [
        "(0, 1)"
       ]
      },
      {
       "output_type": "display_data",
       "png": "[encoded data removed]"
      }
     ],
     "prompt_number": 153
    },
    {
     "cell_type": "code",
     "collapsed": false,
     "input": [
      "def replace_with_bg(g):\n",
      "    if np.random.random_sample() < g:\n",
      "        return True\n",
      "    else:\n",
      "        return False\n",
      "    \n",
      "def make_replacement(f, xemissiontime, xxemissiontime, bgtime):\n",
      "    xo = xemissiontime\n",
      "    xxo = xxemissiontime\n",
      "    if f:\n",
      "        if np.random.random_sample() < 0.5:\n",
      "            xemissiontime = bgtime\n",
      "        else:\n",
      "            xxemissiontime = bgtime\n",
      "    return [xo - xemissiontime, xxo - xxemissiontime]\n",
      "\n",
      "do_replace = [replace_with_bg(g) for i in xrange(s)]"
     ],
     "language": "python",
     "metadata": {},
     "outputs": [],
     "prompt_number": 15
    },
    {
     "cell_type": "code",
     "collapsed": false,
     "input": [],
     "language": "python",
     "metadata": {},
     "outputs": [],
     "prompt_number": 8
    },
    {
     "cell_type": "code",
     "collapsed": false,
     "input": [],
     "language": "python",
     "metadata": {},
     "outputs": []
    }
   ],
   "metadata": {}
  }
 ]
}