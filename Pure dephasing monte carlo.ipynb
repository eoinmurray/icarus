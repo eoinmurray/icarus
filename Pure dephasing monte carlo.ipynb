{
 "metadata": {
  "name": "Pure dephasing monte carlo"
 },
 "nbformat": 3,
 "nbformat_minor": 0,
 "worksheets": [
  {
   "cells": [
    {
     "cell_type": "markdown",
     "metadata": {},
     "source": [
      "# Monte carlo simulation of cross dephasing events."
     ]
    },
    {
     "cell_type": "code",
     "collapsed": false,
     "input": [
      "%pylab inline"
     ],
     "language": "python",
     "metadata": {},
     "outputs": [
      {
       "output_type": "stream",
       "stream": "stdout",
       "text": [
        "\n",
        "Welcome to pylab, a matplotlib-based Python environment [backend: module://IPython.zmq.pylab.backend_inline].\n",
        "For more information, type 'help(pylab)'.\n"
       ]
      }
     ],
     "prompt_number": 1
    },
    {
     "cell_type": "code",
     "collapsed": false,
     "input": [
      "xtau = 1.\n",
      "crosstau = 2.5\n",
      "ghv = 1./( 1. + xtau/crosstau )\n",
      "print 'Coherence ', np.array(ghv).astype('|S4').tostring()\n",
      "\n",
      "xlifetime = 10# np.random.exponential(1, 1)[0]\n",
      "x = np.linspace(0, xlifetime, 100)\n",
      "sin = []\n",
      "\n",
      "def calculate_phase(t, phase = None):\n",
      "\n",
      "    if phase == None:\n",
      "        phase = 0\n",
      "        \n",
      "    FSS = 0.\n",
      "    hbar = 6.56e-16 \n",
      "    return np.exp((1.0j*(FSS*1e-6*t*1e-9 + phase))/hbar)\n",
      "\n",
      "phase = 0\n",
      "dephasing_event = np.random.exponential(crosstau, 1)[0]    \n",
      "\n",
      "for i in xrange(x.size):\n",
      "\n",
      "    p = foo(x[i], phase)\n",
      "\n",
      "    sin.append(p)\n",
      "    if x[i] > dephasing_event:\n",
      "        dephasing_event += np.random.exponential(crosstau, 1)[0]    \n",
      "        if dephasing_event < xlifetime:   \n",
      "            phase = np.random.random_sample()*1e-9\n",
      "\n",
      "sin = np.array(sin)\n",
      "\n",
      "            \n",
      "plt.figure(figsize = (16./1.5, 9./1.5))\n",
      "plt.xlim([0, xlifetime]) ; plt.ylim([-1, 1])\n",
      "\n",
      "plt.plot(x, np.real(sin),'bo', markersize = 2)\n",
      "plt.plot(x, np.real([foo(i) for i in x]),'r--', markersize = 2)\n",
      "\n",
      "plt.xlabel('$\\\\tau_x (ns)$', fontsize = 16) ; plt.ylabel('$Re(\\\\phi)$', fontsize = 16)\n",
      "\n",
      "plt.ylim([- 0.05, 1.5])\n",
      "\n",
      "plt.legend(['No decoherence', 'With decoherence'])"
     ],
     "language": "python",
     "metadata": {},
     "outputs": [
      {
       "output_type": "stream",
       "stream": "stdout",
       "text": [
        "Coherence  0.71\n"
       ]
      },
      {
       "output_type": "pyout",
       "prompt_number": 363,
       "text": [
        "<matplotlib.legend.Legend at 0x125c12f50>"
       ]
      },
      {
       "output_type": "display_data",
       "png": "[encoded data removed]"
      }
     ],
     "prompt_number": 363
    },
    {
     "cell_type": "code",
     "collapsed": false,
     "input": [],
     "language": "python",
     "metadata": {},
     "outputs": []
    }
   ],
   "metadata": {}
  }
 ]
}