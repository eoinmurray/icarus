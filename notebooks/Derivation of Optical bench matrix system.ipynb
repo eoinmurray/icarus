{
 "metadata": {
  "name": "Derivation of Optical bench matrix system"
 },
 "nbformat": 3,
 "nbformat_minor": 0,
 "worksheets": [
  {
   "cells": [
    {
     "cell_type": "markdown",
     "metadata": {},
     "source": [
      "<script type='text/x-mathjax-config'>\n",
      "    (function(){\n",
      "    \n",
      "      MathJax.Hub.Config({\n",
      "      TeX: {\n",
      "         Macros: {\n",
      "          NN: '{\\\\bf N}',\n",
      "          abs: ['\\\\left|{#1}\\\\right|',1],\n",
      "          bra: ['\\\\langle{#1}|',1],\n",
      "          ket: ['{|{#1}\\\\rangle}',1],\n",
      "          vev: ['{\\\\langle{#1}\\\\rangle}',1],\n",
      "          braket: ['\\\\langle{#1}|{#2}\\\\rangle',2]\n",
      "        }\n",
      "      }});\n",
      "        \n",
      "    })()\n",
      "</script>"
     ]
    },
    {
     "cell_type": "markdown",
     "metadata": {},
     "source": [
      "# Derivation on Optical bench matrix system."
     ]
    },
    {
     "cell_type": "markdown",
     "metadata": {},
     "source": [
      "## Photon polariazation jones matrices."
     ]
    },
    {
     "cell_type": "code",
     "collapsed": false,
     "input": [
      "%pylab inline\n",
      "from sympy import MatrixSymbol, Matrix, Symbol\n",
      "from sympy import S, simplify, count_ops, oo\n",
      "from sympy.physics.quantum import TensorProduct\n",
      "from sympy import *\n",
      "\n",
      "import sys\n",
      "sys.path.append('../')\n",
      "import Icarus\n",
      "\n",
      "or2 = 1.0/sqrt(2)"
     ],
     "language": "python",
     "metadata": {},
     "outputs": [
      {
       "output_type": "stream",
       "stream": "stdout",
       "text": [
        "\n",
        "Welcome to pylab, a matplotlib-based Python environment [backend: module://IPython.zmq.pylab.backend_inline].\n",
        "For more information, type 'help(pylab)'.\n"
       ]
      }
     ],
     "prompt_number": 419
    },
    {
     "cell_type": "code",
     "collapsed": false,
     "input": [
      "def mapping_matrix_test(cases, U):\n",
      "    \"\"\"\n",
      "        Tests that for each case the map works.\n",
      "    \"\"\"\n",
      "    \n",
      "    for case in cases:\n",
      "        a = case[0]\n",
      "        b = case[1]\n",
      "        \n",
      "        assert U*a == b, \"Test failed\"\n",
      "\n",
      "def mapping_matrix(cases):\n",
      "    \"\"\"\n",
      "        Create matrix U such that U*A = B.\n",
      "    \"\"\"\n",
      "    \n",
      "    l = len(cases[0][0])\n",
      "\n",
      "    for case in cases:\n",
      "        assert len(case[0]) == l\n",
      "        assert len(case[1]) == l        \n",
      "    \n",
      "    for k in xrange(len(cases)):\n",
      "    \n",
      "        a = cases[k][0]\n",
      "        b = cases[k][1]\n",
      "        \n",
      "        if k == 0:\n",
      "            U = b * a.T\n",
      "        else:\n",
      "            U += b * a.T\n",
      "\n",
      "    mapping_matrix_test(cases, U)\n",
      "    return U"
     ],
     "language": "python",
     "metadata": {},
     "outputs": [],
     "prompt_number": 258
    },
    {
     "cell_type": "code",
     "collapsed": false,
     "input": [
      "# Polarizations.\n",
      "\n",
      "H = Matrix([[1], [0]])\n",
      "V = Matrix([[0], [1]])\n",
      "D = or2*(H+V)\n",
      "A = or2*(H-V)\n",
      "R = or2*(H+1j*V)\n",
      "L = or2*(H-1j*V)\n",
      "\n",
      "# Directions\n",
      "\n",
      "i = Matrix([[1], [0]])\n",
      "j = Matrix([[0], [1]])\n",
      "\n",
      "# Energy\n",
      "\n",
      "X = Matrix([[1], [0]])\n",
      "XX = Matrix([[0], [1]])\n",
      "\n",
      "# Null\n",
      "\n",
      "null_matrix = Matrix([[0],[0]])\n",
      "\n",
      "\n",
      "# Extended kronecker delta states\n",
      "\n",
      "ih = TensorProduct(i, H)\n",
      "iv = TensorProduct(i, V)\n",
      "jh = TensorProduct(j, H)\n",
      "jv = TensorProduct(j, V)\n",
      "\n",
      "ix = TensorProduct(i, X)\n",
      "ixx = TensorProduct(i, XX)\n",
      "jx = TensorProduct(j, X)\n",
      "jxx = TensorProduct(j, XX)\n",
      "\n",
      "\n",
      "ixh = TensorProduct(X, ih)\n",
      "ixxh = TensorProduct(XX, ih)\n",
      "ixv = TensorProduct(X, iv)\n",
      "ixxv = TensorProduct(XX, iv)\n",
      "\n",
      "jxh = TensorProduct(X, jh)\n",
      "jxxh = TensorProduct(XX, jh)\n",
      "jxv = TensorProduct(X, jv)\n",
      "jxxv = TensorProduct(XX, jv)\n",
      "\n",
      "null_state = TensorProduct(null_matrix, TensorProduct(null_matrix, null_matrix))"
     ],
     "language": "python",
     "metadata": {},
     "outputs": [],
     "prompt_number": 209
    },
    {
     "cell_type": "markdown",
     "metadata": {},
     "source": [
      "## Half and quarter wave plates."
     ]
    },
    {
     "cell_type": "code",
     "collapsed": false,
     "input": [
      "def h(a = 0.0):\n",
      "    return Matrix([\n",
      "        [cos(2*a), sin(2*a)],\n",
      "        [sin(2*a), - cos(2*a)]\n",
      "    ])\n",
      "\n",
      "def q(a = 0.0):\n",
      "    return or2*Matrix([\n",
      "        [1.0 + I*cos(2*a), I*sin(2*a)],\n",
      "        [1.0j*sin(2*a), 1.0 - I*cos(2*a)],\n",
      "    ])"
     ],
     "language": "python",
     "metadata": {},
     "outputs": [],
     "prompt_number": 190
    },
    {
     "cell_type": "code",
     "collapsed": false,
     "input": [
      "def test_hwp():\n",
      "    assert h(pi/8)*H - D == Matrix([[0],[0]])\n",
      "    assert h(pi/8)*V - A == Matrix([[0],[0]])\n",
      "    \n",
      "def test_qwp():\n",
      "    assert q(pi/4)*H - R == Matrix([[0],[0]])\n",
      "    assert q(pi/4)*V - 1j*L == Matrix([[0],[0]])"
     ],
     "language": "python",
     "metadata": {},
     "outputs": [],
     "prompt_number": 191
    },
    {
     "cell_type": "code",
     "collapsed": false,
     "input": [
      "test_hwp()\n",
      "test_qwp()\n",
      "\n",
      "alpha1 = Symbol('alpha1')\n",
      "alpha2 = Symbol('alpha2')\n",
      "beta1 = Symbol('beta1')\n",
      "beta2 = Symbol('beta2')\n",
      "\n",
      "ah = TensorProduct(X, TensorProduct(i, h(alpha1))) \n",
      "bh = TensorProduct(X, TensorProduct(j, h(alpha1)))\n",
      "ch = TensorProduct(XX, TensorProduct(i, h(alpha2)))\n",
      "dh = TensorProduct(XX, TensorProduct(j, h(alpha2)))\n",
      "\n",
      "aq = TensorProduct(X, TensorProduct(i, q(beta1))) \n",
      "bq = TensorProduct(X, TensorProduct(j, q(beta1)))\n",
      "cq = TensorProduct(XX, TensorProduct(i, q(beta2)))\n",
      "dq = TensorProduct(XX, TensorProduct(j, q(beta2)))"
     ],
     "language": "python",
     "metadata": {},
     "outputs": [],
     "prompt_number": 611
    },
    {
     "cell_type": "code",
     "collapsed": false,
     "input": [
      "zh = Matrix(8,8, np.zeros(64))\n",
      "zh[:,0:2] += ah\n",
      "zh[:,2:4] += bh\n",
      "zh[:,4:6] += ch\n",
      "zh[:,6:8] += dh\n",
      "\n",
      "\n",
      "zq = Matrix(8,8, np.zeros(64))\n",
      "zq[:,0:2] += aq\n",
      "zq[:,2:4] += bq\n",
      "zq[:,4:6] += cq\n",
      "zq[:,6:8] += dq\n",
      "\n",
      "\n",
      "HWP = zh\n",
      "QWP = zq"
     ],
     "language": "python",
     "metadata": {},
     "outputs": [],
     "prompt_number": 612
    },
    {
     "cell_type": "markdown",
     "metadata": {},
     "source": [
      "## Neutral beam splitter.\n",
      "\n",
      "Does nothing but send half the photon state in the $\\hat{i}$ direction and half in the $\\hat{j}$ direction.\n",
      "\n",
      "$ \\langle NBS \\ | \\ i \\ \\psi \\rangle = \\frac{1}{\\sqrt{2}}( | \\ i \\ \\psi \\rangle + | \\ j \\ \\psi \\rangle )$\n",
      "\n",
      "and \n",
      "\n",
      "$ \\langle NBS \\ | \\ j \\ \\psi \\rangle = \\frac{1}{\\sqrt{2}}( | \\ i \\ \\psi \\rangle + | \\ j \\ \\psi \\rangle )$\n"
     ]
    },
    {
     "cell_type": "code",
     "collapsed": false,
     "input": [
      "NBS_cases = [\n",
      "    [ixh, or2*(ixh + jxh)],\n",
      "    [jxh, or2*(ixh + jxh)],\n",
      "    [ixxh, or2*(ixxh + jxxh)],\n",
      "    [jxxh, or2*(ixxh + jxxh)],\n",
      "    \n",
      "    [ixv, or2*(ixv + jxv)],\n",
      "    [jxv, or2*(ixv + jxv)],\n",
      "    [ixxv, or2*(ixxv + jxxv)],\n",
      "    [jxxv, or2*(ixxv + jxxv)],\n",
      "]\n",
      "\n",
      "NBS = mapping_matrix(NBS_cases)"
     ],
     "language": "python",
     "metadata": {},
     "outputs": [],
     "prompt_number": 613
    },
    {
     "cell_type": "markdown",
     "metadata": {},
     "source": [
      "## Spectrometers.\n",
      "\n",
      "One channel allows excitons to pass, but blocks biexcitons. The other channel allows biexcitons to pass and blocks excitons."
     ]
    },
    {
     "cell_type": "code",
     "collapsed": false,
     "input": [
      "Si_cases = [\n",
      "    [ixxh, ixxh],\n",
      "    [ixxv, ixxv],\n",
      "    [ixh, null_state],\n",
      "    [ixv, null_state],\n",
      "]\n",
      "\n",
      "Si = mapping_matrix(Si_cases)\n",
      "\n",
      "Sj_cases = [\n",
      "    [jxh, jxh],\n",
      "    [jxv, jxv],\n",
      "    [jxxh, null_state],\n",
      "    [jxxv, null_state],\n",
      "]\n",
      "\n",
      "Si = mapping_matrix(Si_cases)\n",
      "Sj = mapping_matrix(Sj_cases)\n",
      "\n",
      "S = Si + Sj"
     ],
     "language": "python",
     "metadata": {},
     "outputs": [],
     "prompt_number": 614
    },
    {
     "cell_type": "markdown",
     "metadata": {},
     "source": [
      "## Polarising beam splitter.\n",
      "\n",
      "Changes to photon path depending on its polarization."
     ]
    },
    {
     "cell_type": "code",
     "collapsed": false,
     "input": [
      "PBSi_cases = [\n",
      "    [ixxh, ixxh],\n",
      "    [ixxv, jxxv],\n",
      "    \n",
      "    [ixh, ixh],\n",
      "    [ixv, jxv],\n",
      "]\n",
      "\n",
      "PBSj_cases = [\n",
      "    [jxh, jxh],\n",
      "    [jxv, ixv],\n",
      "    [jxxh, jxxh],\n",
      "    [jxxv, ixxv],\n",
      "\n",
      "]\n",
      "\n",
      "PBSi = mapping_matrix(PBSi_cases)\n",
      "PBSj = mapping_matrix(PBSj_cases)\n",
      "\n",
      "PBS = PBSi + PBSj"
     ],
     "language": "python",
     "metadata": {},
     "outputs": [],
     "prompt_number": 615
    },
    {
     "cell_type": "markdown",
     "metadata": {},
     "source": [
      "## Biphoton states"
     ]
    },
    {
     "cell_type": "code",
     "collapsed": false,
     "input": [
      "HWPHWP = TensorProduct(HWP, HWP)\n",
      "QWPQWP = TensorProduct(QWP, QWP)\n",
      "NBSNBS = TensorProduct(NBS, NBS)\n",
      "SS = TensorProduct(S, S)\n",
      "PBSPBS = TensorProduct(PBS, PBS)"
     ],
     "language": "python",
     "metadata": {},
     "outputs": [],
     "prompt_number": 616
    },
    {
     "cell_type": "code",
     "collapsed": false,
     "input": [
      "phi = Symbol('phi')\n",
      "state = or2*(TensorProduct(ixh, ixxh) + phi* TensorProduct(ixv, ixxv))"
     ],
     "language": "python",
     "metadata": {},
     "outputs": [],
     "prompt_number": 617
    },
    {
     "cell_type": "code",
     "collapsed": false,
     "input": [
      "D1 = jxh\n",
      "D2 = ixv\n",
      "D3 = ixxh\n",
      "D4 = jxxv\n",
      "\n",
      "D1D3 = TensorProduct(D1, D3)\n",
      "D1D4 = TensorProduct(D1, D4)\n",
      "D2D3 = TensorProduct(D2, D3)\n",
      "D2D4 = TensorProduct(D2, D4)"
     ],
     "language": "python",
     "metadata": {},
     "outputs": [],
     "prompt_number": 618
    },
    {
     "cell_type": "code",
     "collapsed": false,
     "input": [
      "p_state = PBSPBS*SS*QWPQWP*HWPHWP*NBSNBS*state"
     ],
     "language": "python",
     "metadata": {},
     "outputs": [],
     "prompt_number": 653
    },
    {
     "cell_type": "code",
     "collapsed": false,
     "input": [
      "d1d3p = (4*abs((D1D3.T * p_state)[0])**2)\n",
      "d1d4p = (4*abs((D1D4.T * p_state)[0])**2)\n",
      "d2d3p = (4*abs((D2D3.T * p_state)[0])**2)\n",
      "d2d4p = (4*abs((D2D4.T * p_state)[0])**2)"
     ],
     "language": "python",
     "metadata": {},
     "outputs": [],
     "prompt_number": 660
    },
    {
     "cell_type": "code",
     "collapsed": false,
     "input": [
      "d1d3e = lambdify((phi, alpha1, alpha2, beta1, beta2), d1d3p, 'numpy')\n",
      "d1d4e = lambdify((phi, alpha1, alpha2, beta1, beta2), d1d4p, 'numpy')\n",
      "d2d3e = lambdify((phi, alpha1, alpha2, beta1, beta2), d2d3p, 'numpy')\n",
      "d2d4e = lambdify((phi, alpha1, alpha2, beta1, beta2), d2d4p, 'numpy')"
     ],
     "language": "python",
     "metadata": {},
     "outputs": [],
     "prompt_number": 671
    },
    {
     "cell_type": "code",
     "collapsed": false,
     "input": [
      "def foo(phase, hwpx, hwpxx, qwpx, qwpxx):\n",
      "    \n",
      "    p1 = d1d3e(phase, hwpx, hwpxx, qwpx, qwpxx)\n",
      "    p2 = d1d4e(phase, hwpx, hwpxx, qwpx, qwpxx)\n",
      "    p3 = d2d3e(phase, hwpx, hwpxx, qwpx, qwpxx)\n",
      "    p4 = d2d4e(phase, hwpx, hwpxx, qwpx, qwpxx)\n",
      "    \n",
      "    return np.array([p1, p2, p3, p4])"
     ],
     "language": "python",
     "metadata": {},
     "outputs": [],
     "prompt_number": 673
    },
    {
     "cell_type": "code",
     "collapsed": false,
     "input": [
      "angles = np.linspace(-np.pi, np.pi, 100)\n",
      "\n",
      "plt.plot(angles, [foo(1, angle, 0, angle, 0)[0] for angle in angles])\n",
      "\n",
      "plt.ylim([-0.05, 1.05])\n",
      "plt.legend(['D1D3', 'D1D4', 'D2D3', 'D2D4'])"
     ],
     "language": "python",
     "metadata": {},
     "outputs": [
      {
       "output_type": "pyout",
       "prompt_number": 690,
       "text": [
        "<matplotlib.legend.Legend at 0x10bd0fdd0>"
       ]
      },
      {
       "output_type": "display_data",
       "png": "[encoded data removed]"
      }
     ],
     "prompt_number": 690
    },
    {
     "cell_type": "code",
     "collapsed": false,
     "input": [],
     "language": "python",
     "metadata": {},
     "outputs": []
    }
   ],
   "metadata": {}
  }
 ]
}