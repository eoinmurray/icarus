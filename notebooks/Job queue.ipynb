{
 "metadata": {
  "name": "Job queue"
 },
 "nbformat": 3,
 "nbformat_minor": 0,
 "worksheets": [
  {
   "cells": [
    {
     "cell_type": "markdown",
     "metadata": {},
     "source": [
      "# Job Queue."
     ]
    },
    {
     "cell_type": "markdown",
     "metadata": {},
     "source": [
      "### Degree of correlation ratios v background emisision."
     ]
    },
    {
     "cell_type": "code",
     "collapsed": false,
     "input": [
      "import numpy as np\n",
      "\n",
      "class Constants():\n",
      "\t\"\"\"\n",
      "\t\tClass of constants, duh.\n",
      "\t\"\"\"\n",
      "\n",
      "\t# Quantum dot\n",
      "\txtau = 1.\n",
      "\txxtau = 0.5\n",
      "\tptau = 2.\n",
      "\tpoptime_on = True\n",
      "\thbar = 6.58e-16\n",
      "\t\n",
      "\tFSS = 1.5e-6\n",
      "\tcrosstau = 2.5\n",
      "\tsecondary_emission_probability = 0.\n",
      "\tbg_emission_rate = 0.05\n",
      "\n",
      "\t# Laser\n",
      "\tpulse_width = 25.\n",
      "\tpower = 1.\n",
      "\n",
      "\t# Detector\n",
      "\tFWHM = 4.8\n",
      "\tsigma = FWHM/(2*np.sqrt(np.log(2)*2))\n",
      "\tefficiency = 1.\n",
      "\tdelay = 161.8\n",
      "\tbin_width = 50\n",
      "\trotation_error = 0.#np.pi/26\n",
      "\n",
      "\t# Experiment parameters\n",
      "\tnum_iterations = 1\n",
      "\tintegration_time = 500000"
     ],
     "language": "python",
     "metadata": {},
     "outputs": [],
     "prompt_number": 2
    },
    {
     "cell_type": "code",
     "collapsed": false,
     "input": [
      "folder_name = 'fid_v_bg'\n",
      "param_array = np.linspace( 0., 0.5, 50)\n",
      "attr_name = 'bg_emission_rate'"
     ],
     "language": "python",
     "metadata": {},
     "outputs": [],
     "prompt_number": 4
    },
    {
     "cell_type": "code",
     "collapsed": false,
     "input": [],
     "language": "python",
     "metadata": {},
     "outputs": []
    }
   ],
   "metadata": {}
  }
 ]
}