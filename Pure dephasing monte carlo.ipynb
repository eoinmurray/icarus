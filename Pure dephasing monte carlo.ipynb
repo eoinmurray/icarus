{
 "metadata": {
  "name": "Pure dephasing monte carlo"
 },
 "nbformat": 3,
 "nbformat_minor": 0,
 "worksheets": [
  {
   "cells": [
    {
     "cell_type": "markdown",
     "metadata": {},
     "source": [
      "# Monte carlo simulation of cross dephasing events."
     ]
    },
    {
     "cell_type": "code",
     "collapsed": false,
     "input": [
      "%pylab inline"
     ],
     "language": "python",
     "metadata": {},
     "outputs": [
      {
       "output_type": "stream",
       "stream": "stdout",
       "text": [
        "\n",
        "Welcome to pylab, a matplotlib-based Python environment [backend: module://IPython.zmq.pylab.backend_inline].\n",
        "For more information, type 'help(pylab)'.\n"
       ]
      }
     ],
     "prompt_number": 1
    },
    {
     "cell_type": "code",
     "collapsed": false,
     "input": [
      "def calculate_phase(t, FSS, phase = None):\n",
      "    \"\"\" \n",
      "        Calculated the exciton - biexciton phase\n",
      "    \"\"\"\n",
      "    \n",
      "    if phase == None:\n",
      "        phase = 0\n",
      "    \n",
      "    hbar = 6.56e-16 \n",
      "    return np.exp((1.0j*(FSS*1e-6*t*1e-9 + phase))/hbar)"
     ],
     "language": "python",
     "metadata": {},
     "outputs": [],
     "prompt_number": 364
    },
    {
     "cell_type": "code",
     "collapsed": false,
     "input": [
      "def phase_with_dephasing(xlifetime, crosstau, FSS):\n",
      "    \"\"\"\n",
      "        Calculated the phase including dephasing.\n",
      "    \"\"\"\n",
      "    \n",
      "    t = np.linspace(0, xlifetime, 100)\n",
      "    sin = []\n",
      "    phase = 0\n",
      "    dephasing_event = np.random.exponential(crosstau, 1)[0]    \n",
      "\n",
      "    for i in xrange(t.size):\n",
      "    \n",
      "        p = calculate_phase(t[i], FSS, phase)\n",
      "        sin.append(p)\n",
      "        \n",
      "        if t[i] > dephasing_event:\n",
      "\n",
      "            if dephasing_event < xlifetime:   \n",
      "                phase = np.random.random_sample()*1e-9\n",
      "                dephasing_event += np.random.exponential(crosstau, 1)[0]        \n",
      "                \n",
      "    sin = np.array(sin)\n",
      "    return sin[-1], sin"
     ],
     "language": "python",
     "metadata": {},
     "outputs": [],
     "prompt_number": 490
    },
    {
     "cell_type": "code",
     "collapsed": false,
     "input": [
      "xtau = 1.\n",
      "crosstau = 1.\n",
      "FSS = 2."
     ],
     "language": "python",
     "metadata": {},
     "outputs": [],
     "prompt_number": 519
    },
    {
     "cell_type": "code",
     "collapsed": false,
     "input": [
      "xlifetime = np.random.exponential(1, 1)[0]\n",
      "plt.figure(figsize = (16./1.5, 9./1.5))\n",
      "\n",
      "t = np.linspace(0, xlifetime, 100)\n",
      "plt.plot(t, phase_with_dephasing(xlifetime, crosstau, FSS)[1],'bo', markersize = 2)\n",
      "plt.plot(t, phase_with_dephasing(xlifetime, 1e20, FSS)[1],'r--', markersize = 2)\n",
      "\n",
      "plt.xlabel('$\\\\tau_x (ns)$', fontsize = 16) ; plt.ylabel('$Re(\\\\phi)$', fontsize = 16)\n",
      "plt.xlim([0, xlifetime]) ; plt.ylim([-1.1, 1.1])\n",
      "plt.legend(['No decoherence', 'With decoherence'])"
     ],
     "language": "python",
     "metadata": {},
     "outputs": [
      {
       "output_type": "pyout",
       "prompt_number": 525,
       "text": [
        "<matplotlib.legend.Legend at 0x1314ae210>"
       ]
      },
      {
       "output_type": "display_data",
       "png": "[encoded data removed]"
      }
     ],
     "prompt_number": 525
    },
    {
     "cell_type": "code",
     "collapsed": false,
     "input": [
      "test_phases = np.array([phase_with_dephasing(xl, crosstau, 0)[0] for xl in np.random.exponential(xtau, 500)])"
     ],
     "language": "python",
     "metadata": {},
     "outputs": [],
     "prompt_number": 512
    },
    {
     "cell_type": "code",
     "collapsed": false,
     "input": [
      "real_t_p = np.real(test_phases)\n",
      "1.0 - float(real_t_p[real_t_p != 1.].size) / real_t_p.size"
     ],
     "language": "python",
     "metadata": {},
     "outputs": [
      {
       "output_type": "pyout",
       "prompt_number": 513,
       "text": [
        "0.518"
       ]
      }
     ],
     "prompt_number": 513
    },
    {
     "cell_type": "code",
     "collapsed": false,
     "input": [
      "ghv = 1./(1 + xtau / crosstau)\n",
      "ghv"
     ],
     "language": "python",
     "metadata": {},
     "outputs": [
      {
       "output_type": "pyout",
       "prompt_number": 514,
       "text": [
        "0.5"
       ]
      }
     ],
     "prompt_number": 514
    }
   ],
   "metadata": {}
  }
 ]
}