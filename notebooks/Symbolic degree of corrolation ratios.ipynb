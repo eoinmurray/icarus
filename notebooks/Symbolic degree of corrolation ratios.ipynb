{
 "metadata": {
  "name": "Symbolic degree of corrolation ratios"
 },
 "nbformat": 3,
 "nbformat_minor": 0,
 "worksheets": [
  {
   "cells": [
    {
     "cell_type": "code",
     "collapsed": false,
     "input": [
      "%pylab inline\n",
      "import sys\n",
      "from sympy import MatrixSymbol, Matrix, Symbol\n",
      "from sympy import S, simplify, count_ops, oo\n",
      "from sympy.physics.quantum import TensorProduct\n",
      "import sympy as sy\n",
      "sys.path.append('../')\n",
      "import Icarus"
     ],
     "language": "python",
     "metadata": {},
     "outputs": [
      {
       "output_type": "stream",
       "stream": "stdout",
       "text": [
        "\n",
        "Welcome to pylab, a matplotlib-based Python environment [backend: module://IPython.zmq.pylab.backend_inline].\n",
        "For more information, type 'help(pylab)'.\n"
       ]
      }
     ],
     "prompt_number": 88
    },
    {
     "cell_type": "code",
     "collapsed": false,
     "input": [
      "bench = Icarus.OpticalBench()\n",
      "qd = Icarus.QuantumDot()\n",
      "pcm = Icarus.PhotonCountingModule()\n",
      "\n",
      "pcm.register_detector('D1',  \n",
      "     pcm.Detector(\n",
      "        delay = 0, \t\n",
      "        efficiency\t= 0, \n",
      "        sigma\t= 0, \n",
      "        matrix = bench.jxh \n",
      "    )\n",
      ")\n",
      "\n",
      "pcm.register_detector('D3',  \n",
      "    pcm.Detector(\n",
      "        delay = 0, \t\n",
      "        efficiency\t= 0, \n",
      "        sigma\t= 0, \n",
      "        matrix = bench.ixxh \n",
      "    )\n",
      ")\n",
      "\n",
      "pcm.register_detector('D4',  \n",
      "    pcm.Detector(\n",
      "        delay = 0, \t\n",
      "        efficiency\t= 0, \n",
      "        sigma\t= 0, \n",
      "        matrix = bench.jxxv \n",
      "    )\n",
      ")\n",
      "\n",
      "pcm.register_channel('D1D3',\n",
      "    pcm.Channel(\n",
      "        1.0, \n",
      "        pcm.detector('D3'), \n",
      "        pcm.detector('D1'), \n",
      "        'D1D3'\n",
      "    )\n",
      ")\n",
      "\n",
      "pcm.register_channel('D1D4',\n",
      "    pcm.Channel(\n",
      "        1.0, \n",
      "        pcm.detector('D4'), \n",
      "        pcm.detector('D1'), \n",
      "        'D1D4'\n",
      "    )\n",
      ")"
     ],
     "language": "python",
     "metadata": {},
     "outputs": [],
     "prompt_number": 14
    },
    {
     "cell_type": "code",
     "collapsed": false,
     "input": [
      "def calculate_HWP(t1, t2):\n",
      "    \"\"\"\n",
      "        Calculates the HWP matrix, with symbolic angle.\n",
      "    \"\"\"\n",
      "\n",
      "    return Matrix([\n",
      "        [sy.cos(t1)**2 - sy.sin(t1)**2, 2*sy.cos(t1)*sy.sin(t1), 0, 0, 0, 0, 0, 0],\n",
      "        [2*sy.cos(t1)*sy.sin(t1), -sy.cos(t1)**2 + sy.sin(t1)**2, 0, 0, 0, 0, 0, 0],\n",
      "        [0, 0, sy.cos(t1)**2 - sy.sin(t1)**2, 2*sy.cos(t1)*sy.sin(t1), 0, 0, 0, 0],\n",
      "        [0, 0, 2*sy.cos(t1)*sy.sin(t1), -sy.cos(t1)**2 + sy.sin(t1)**2, 0, 0, 0, 0],\n",
      "        [0, 0, 0, 0, sy.cos(t2)**2 - sy.sin(t2)**2, 2*sy.cos(t2)*sy.sin(t2), 0, 0],\n",
      "        [0, 0, 0, 0, 2*sy.cos(t2)*sy.sin(t2), -sy.cos(t2)**2 + sy.sin(t2)**2, 0, 0],\n",
      "        [0, 0, 0, 0, 0, 0, sy.cos(t1)**2 - sy.sin(t1)**2, 2*sy.cos(t1)*sy.sin(t1)],\n",
      "        [0, 0, 0, 0, 0, 0, 2*sy.cos(t1)*sy.sin(t1), -sy.cos(t1)**2 + sy.sin(t1)**2]\n",
      "    ])\n",
      "\n",
      "\n",
      "\n",
      "def calculate_QWP(t1, t2):\n",
      "    \"\"\"\n",
      "        Calculates the QWP matrix, with symbolic angle.\n",
      "    \"\"\"\n",
      "\n",
      "    return Matrix([\n",
      "        [sy.cos(t1)**2 + 1j*sy.sin(t1)**2, (1-1j)*sy.cos(t1)*sy.sin(t1), 0, 0, 0, 0, 0, 0],\n",
      "        [(1-1j)*sy.cos(t1)*sy.sin(t1), 1j*sy.cos(t1)**2 + sy.sin(t1)**2, 0, 0, 0, 0, 0, 0],\n",
      "        [0, 0, sy.cos(t1)**2 + 1j*sy.sin(t1)**2, (1-1j)*sy.cos(t1)*sy.sin(t1), 0, 0, 0, 0],\n",
      "        [0, 0, (1-1j)*sy.cos(t1)*sy.sin(t1), 1j*sy.cos(t1)**2 + sy.sin(t1)**2, 0, 0, 0, 0],\n",
      "        [0, 0, 0, 0, sy.cos(t2)**2 + 1j*sy.sin(t2)**2, (1-1j)*sy.cos(t2)*sy.sin(t2), 0, 0],\n",
      "        [0, 0, 0, 0, (1-1j)*sy.cos(t2)*sy.sin(t2), 1j*sy.cos(t2)**2 + sy.sin(t2)**2, 0, 0],\n",
      "        [0, 0, 0, 0, 0, 0, sy.cos(t2)**2 + 1j*sy.sin(t2)**2, (1-1j)*sy.cos(t2)*sy.sin(t2)],\n",
      "        [0, 0, 0, 0, 0, 0, (1-1j)*sy.cos(t2)*sy.sin(t2), 1j*sy.cos(t2)**2 + sy.sin(t2)**2],\n",
      "    ])"
     ],
     "language": "python",
     "metadata": {},
     "outputs": [],
     "prompt_number": 15
    },
    {
     "cell_type": "code",
     "collapsed": false,
     "input": [
      "phi = Symbol('phi')\n",
      "state = (1.0/np.sqrt(2.0))*(Matrix(np.kron(bench.ixh, bench.ixxh)) + phi*Matrix(np.kron(bench.ixv, bench.ixxv)))"
     ],
     "language": "python",
     "metadata": {},
     "outputs": [],
     "prompt_number": 16
    },
    {
     "cell_type": "code",
     "collapsed": false,
     "input": [
      "alpha = Symbol('alpha')\n",
      "bench.HWP = calculate_HWP(alpha, alpha).evalf(subs={alpha:np.pi})\n",
      "bench.QWP = calculate_QWP(alpha, alpha).evalf(subs={alpha:np.pi})\n",
      "\n",
      "bench.HWPHWP = TensorProduct(bench.HWP, bench.HWP)\n",
      "bench.QWPQWP = TensorProduct(bench.QWP, bench.QWP)\n",
      "\n",
      "bench.SS = Matrix(bench.SS)\n",
      "bench.NBSNBS = Matrix(bench.NBSNBS)\n",
      "bench.PBSPBS = Matrix(bench.PBSPBS)"
     ],
     "language": "python",
     "metadata": {},
     "outputs": [],
     "prompt_number": 74
    },
    {
     "cell_type": "code",
     "collapsed": false,
     "input": [
      "bench.setLabMatrix('NBSNBS HWPHWP SS PBSPBS')\n",
      "bench.matrix_diag = Matrix(bench.matrix)\n",
      "\n",
      "bench.setLabMatrix('NBSNBS QWPQWP SS PBSPBS')\n",
      "bench.matrix_circ = Matrix(bench.matrix)"
     ],
     "language": "python",
     "metadata": {},
     "outputs": [],
     "prompt_number": 75
    },
    {
     "cell_type": "code",
     "collapsed": false,
     "input": [
      "D1D3 = pcm.channel('D1D3')\n",
      "D1D4 = pcm.channel('D1D4')\n",
      "D1D3.matrix = Matrix(D1D3.matrix)\n",
      "D1D4.matrix = Matrix(D1D4.matrix)"
     ],
     "language": "python",
     "metadata": {},
     "outputs": [],
     "prompt_number": 76
    },
    {
     "cell_type": "code",
     "collapsed": false,
     "input": [
      "p_state_diag = (bench.matrix_diag)*state\n",
      "p_state_circ = (bench.matrix_circ)*state"
     ],
     "language": "python",
     "metadata": {},
     "outputs": [],
     "prompt_number": 77
    },
    {
     "cell_type": "code",
     "collapsed": false,
     "input": [
      "diag_TT = 4*(D1D3.matrix.T*p_state_diag)[0]**2\n",
      "diag_TR = 4*(D1D4.matrix.T*p_state_diag)[0]**2\n",
      "circ_TT = 4*(D1D3.matrix.T*p_state_circ)[0]**2\n",
      "circ_TR = 4*(D1D4.matrix.T*p_state_circ)[0]**2"
     ],
     "language": "python",
     "metadata": {},
     "outputs": [],
     "prompt_number": 78
    },
    {
     "cell_type": "code",
     "collapsed": false,
     "input": [
      "def plot_prob_diag(p, a=0):\n",
      "    return np.abs(diag_TT.evalf(subs={phi:p, alpha:a})), np.abs(diag_TR.evalf(subs={phi:p, alpha:a}))\n",
      "\n",
      "def plot_prob_circ(p, a=0):\n",
      "    return np.abs(circ_TT.evalf(subs={phi:p, alpha:a})), np.abs(circ_TR.evalf(subs={phi:p, alpha:a}))\n",
      "\n",
      "def plot_prob_rect(p, a=0):\n",
      "    return 0.5, 0"
     ],
     "language": "python",
     "metadata": {},
     "outputs": [],
     "prompt_number": 79
    },
    {
     "cell_type": "code",
     "collapsed": false,
     "input": [
      "t = np.linspace(0, 10, 100)\n",
      "\n",
      "def make_phase(fss, crosstau = 1e10):\n",
      "    qd.FSS = 0.\n",
      "    qd.xlifetime = fss\n",
      "    return qd.generate_phase()\n",
      "\n",
      "phases = np.array([make_phase(tt) for tt in t])\n",
      "\n",
      "diag_probs = np.array([plot_prob_diag(p) for p in phases])\n",
      "circ_probs = np.array([plot_prob_circ(p) for p in phases])\n",
      "rect_probs = np.array([plot_prob_rect(p) for p in phases])"
     ],
     "language": "python",
     "metadata": {},
     "outputs": [],
     "prompt_number": 80
    },
    {
     "cell_type": "code",
     "collapsed": false,
     "input": [
      "gdiag = (diag_probs[:,0] - diag_probs[:,1])/(diag_probs[:,0] + diag_probs[:,1])\n",
      "gcirc = (circ_probs[:,0] - circ_probs[:,1])/(circ_probs[:,0] + circ_probs[:,1])\n",
      "grect = (rect_probs[:,0] - rect_probs[:,1])/(rect_probs[:,0] + rect_probs[:,1])\n",
      "\n",
      "plt.plot(t, diag_probs[:,0])\n",
      "plt.plot(t, circ_probs[:,0])\n",
      "#plt.plot(t, gcirc/grect)\n",
      "plt.ylim([-1.05, 1.05])"
     ],
     "language": "python",
     "metadata": {},
     "outputs": [
      {
       "output_type": "pyout",
       "prompt_number": 81,
       "text": [
        "(-1.05, 1.05)"
       ]
      },
      {
       "output_type": "display_data",
       "png": "[encoded data removed]"
      }
     ],
     "prompt_number": 81
    },
    {
     "cell_type": "code",
     "collapsed": false,
     "input": [
      "(bench.QWPQWP*state).evalf(subs={phi:1, alpha:0}) - (bench.QWPQWP*state).evalf(subs={phi:0.2, alpha:np.pi/5})"
     ],
     "language": "python",
     "metadata": {},
     "outputs": [
      {
       "output_type": "pyout",
       "prompt_number": 87,
       "text": [
        "[                                             0]\n",
        "[                                             0]\n",
        "[                                             0]\n",
        "[                                             0]\n",
        "[                        -1.6967844999537e-32*I]\n",
        "[-6.92764844988395e-17 - 6.92764844988395e-17*I]\n",
        "[                                             0]\n",
        "[                                             0]\n",
        "[                                             0]\n",
        "[                                             0]\n",
        "[                                             0]\n",
        "[                                             0]\n",
        "[-6.92764844988395e-17 - 6.92764844988395e-17*I]\n",
        "[    -0.565685424949238 + 1.6967844999537e-32*I]\n",
        "[                                             0]\n",
        "[                                             0]\n",
        "[                                             0]\n",
        "[                                             0]\n",
        "[                                             0]\n",
        "[                                             0]\n",
        "[                                             0]\n",
        "[                                             0]\n",
        "[                                             0]\n",
        "[                                             0]\n",
        "[                                             0]\n",
        "[                                             0]\n",
        "[                                             0]\n",
        "[                                             0]\n",
        "[                                             0]\n",
        "[                                             0]\n",
        "[                                             0]\n",
        "[                                             0]\n",
        "[                                             0]\n",
        "[                                             0]\n",
        "[                                             0]\n",
        "[                                             0]\n",
        "[                                             0]\n",
        "[                                             0]\n",
        "[                                             0]\n",
        "[                                             0]\n",
        "[                                             0]\n",
        "[                                             0]\n",
        "[                                             0]\n",
        "[                                             0]\n",
        "[                                             0]\n",
        "[                                             0]\n",
        "[                                             0]\n",
        "[                                             0]\n",
        "[                                             0]\n",
        "[                                             0]\n",
        "[                                             0]\n",
        "[                                             0]\n",
        "[                                             0]\n",
        "[                                             0]\n",
        "[                                             0]\n",
        "[                                             0]\n",
        "[                                             0]\n",
        "[                                             0]\n",
        "[                                             0]\n",
        "[                                             0]\n",
        "[                                             0]\n",
        "[                                             0]\n",
        "[                                             0]\n",
        "[                                             0]"
       ]
      }
     ],
     "prompt_number": 87
    },
    {
     "cell_type": "code",
     "collapsed": false,
     "input": [],
     "language": "python",
     "metadata": {},
     "outputs": []
    }
   ],
   "metadata": {}
  }
 ]
}