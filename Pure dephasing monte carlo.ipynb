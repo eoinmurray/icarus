{
 "metadata": {
  "name": "Pure dephasing monte carlo"
 },
 "nbformat": 3,
 "nbformat_minor": 0,
 "worksheets": [
  {
   "cells": [
    {
     "cell_type": "code",
     "collapsed": false,
     "input": [
      "%pylab inline"
     ],
     "language": "python",
     "metadata": {},
     "outputs": [
      {
       "output_type": "stream",
       "stream": "stdout",
       "text": [
        "\n",
        "Welcome to pylab, a matplotlib-based Python environment [backend: module://IPython.zmq.pylab.backend_inline].\n",
        "For more information, type 'help(pylab)'.\n"
       ]
      }
     ],
     "prompt_number": 1
    },
    {
     "cell_type": "code",
     "collapsed": false,
     "input": [
      "xtau = 1.\n",
      "puretau = 50.\n",
      "ghv = 1./( 1. + xtau/crosstau )\n",
      "print 'Coherence ', np.array(ghv).astype('|S4').tostring()\n",
      "\n",
      "xlifetime = 0.1#np.random.exponential(1, 1)[0]\n",
      "x = np.linspace(0, xlifetime, 1000)\n",
      "sin = np.zeros(1000)\n",
      "\n",
      "def foo(t):\n",
      "    FSS = 0\n",
      "    hbar = 6.56e-16 \n",
      "    return np.exp((1.0j*FSS*1e-6*t*1e-9)/hbar)\n",
      "\n",
      "phase = 0\n",
      "pure_event = 0\n",
      "for i in xrange(x.size):\n",
      "    sin[i] = foo(x[i] + phase)\n",
      "    \n",
      "    if x[i] > pure_event:\n",
      "        pure_event += np.random.exponential(puretau, 1)[0]\n",
      "\n",
      "        if pure_event < xlifetime:\n",
      "            print pure_event\n",
      "            phase = 100*np.random.random_sample()\n",
      "    \n",
      "plt.xlim([0 ,xlifetime]) ; plt.ylim([-1, 1])\n",
      "plt.plot(x, sin,'bo', markersize = 2)\n",
      "plt.plot(x, [foo(i) for i in x],'r--', markersize = 2)"
     ],
     "language": "python",
     "metadata": {},
     "outputs": [
      {
       "output_type": "stream",
       "stream": "stdout",
       "text": [
        "Coherence  0.98\n"
       ]
      },
      {
       "output_type": "pyout",
       "prompt_number": 233,
       "text": [
        "[<matplotlib.lines.Line2D at 0x114eb4f50>]"
       ]
      },
      {
       "output_type": "display_data",
       "png": "[encoded data removed]"
      }
     ],
     "prompt_number": 233
    },
    {
     "cell_type": "code",
     "collapsed": false,
     "input": [],
     "language": "python",
     "metadata": {},
     "outputs": [],
     "prompt_number": 217
    },
    {
     "cell_type": "code",
     "collapsed": false,
     "input": [],
     "language": "python",
     "metadata": {},
     "outputs": []
    }
   ],
   "metadata": {}
  }
 ]
}