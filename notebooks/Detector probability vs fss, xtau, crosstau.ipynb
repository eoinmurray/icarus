{
 "metadata": {
  "name": "Detector probability vs fss, xtau, crosstau"
 },
 "nbformat": 3,
 "nbformat_minor": 0,
 "worksheets": [
  {
   "cells": [
    {
     "cell_type": "code",
     "collapsed": false,
     "input": [
      "%pylab inline\n",
      "import sys\n",
      "sys.path.append('../')"
     ],
     "language": "python",
     "metadata": {},
     "outputs": [
      {
       "output_type": "stream",
       "stream": "stdout",
       "text": [
        "\n",
        "Welcome to pylab, a matplotlib-based Python environment [backend: module://IPython.zmq.pylab.backend_inline].\n",
        "For more information, type 'help(pylab)'.\n"
       ]
      }
     ],
     "prompt_number": 1
    },
    {
     "cell_type": "code",
     "collapsed": false,
     "input": [
      "import Icarus\n",
      "from constants import Constants"
     ],
     "language": "python",
     "metadata": {},
     "outputs": [],
     "prompt_number": 2
    },
    {
     "cell_type": "code",
     "collapsed": false,
     "input": [
      "c = Constants()\n",
      "qd = Icarus.QuantumDot(c.xtau, c.xxtau, c.ptau, c.FSS, c.crosstau, c.bg_emission_rate)\n",
      "bench_lin = Icarus.OpticalBench()\n",
      "bench_lin.setHWP(0, 0)\n",
      "bench_lin.setLabMatrix('NBSNBS HWPHWP SS PBSPBS')\n",
      "\n",
      "bench_diag = Icarus.OpticalBench()\n",
      "bench_diag.setHWP(np.pi/8, np.pi/8)\n",
      "bench_diag.setLabMatrix('NBSNBS HWPHWP SS PBSPBS')"
     ],
     "language": "python",
     "metadata": {},
     "outputs": [],
     "prompt_number": 3
    },
    {
     "cell_type": "code",
     "collapsed": false,
     "input": [
      "pcm = Icarus.PhotonCountingModule()\n",
      "\n",
      "pcm.register_detector('D1',  \n",
      "     pcm.Detector(\n",
      "        delay = c.delay, \t\n",
      "        efficiency\t= c.efficiency, \n",
      "        sigma\t= c.sigma, \n",
      "        matrix = bench_lin.jxh \n",
      "    )\n",
      ")\n",
      "\n",
      "pcm.register_detector('D3',  \n",
      "    pcm.Detector(\n",
      "        delay = 0, \t\n",
      "        efficiency\t= c.efficiency, \n",
      "        sigma\t= c.sigma, \n",
      "        matrix = bench_lin.ixxh \n",
      "    )\n",
      ")\n",
      "\n",
      "pcm.register_detector('D4',  \n",
      "    pcm.Detector(\n",
      "        delay = 0, \t\n",
      "        efficiency\t= c.efficiency, \n",
      "        sigma\t= c.sigma, \n",
      "        matrix = bench_lin.jxxv \n",
      "    )\n",
      ")\n",
      "\n",
      "pcm.register_channel('D1D3',\n",
      "    pcm.Channel(\n",
      "        c.bin_width, \n",
      "        pcm.detector('D3'), \n",
      "        pcm.detector('D1'), \n",
      "        'D1D3'\n",
      "    )\n",
      ")\n",
      "\n",
      "pcm.register_channel('D1D4',\n",
      "    pcm.Channel(\n",
      "        c.bin_width, \n",
      "        pcm.detector('D4'), \n",
      "        pcm.detector('D1'), \n",
      "        'D1D4'\n",
      "    )\n",
      ")"
     ],
     "language": "python",
     "metadata": {},
     "outputs": [],
     "prompt_number": 4
    },
    {
     "cell_type": "code",
     "collapsed": false,
     "input": [
      "def foo(c=1, f=0):\n",
      "    qd.FSS = f\n",
      "    qd.xlifetime = 1.\n",
      "    qd.crosstau = c\n",
      "    \n",
      "    def innerfoo():\n",
      "        D1D3_prob_lin = pcm.channel('D1D3').calculate_probability(bench_lin.matrix*qd.generate_state())\n",
      "        D1D3_prob_diag = pcm.channel('D1D3').calculate_probability(bench_diag.matrix*qd.generate_state())\n",
      "        D1D4_prob_lin = pcm.channel('D1D4').calculate_probability(bench_lin.matrix*qd.generate_state())\n",
      "        D1D4_prob_diag = pcm.channel('D1D4').calculate_probability(bench_diag.matrix*qd.generate_state())\n",
      "    \n",
      "        grect = (D1D3_prob_lin - D1D4_prob_lin)/(D1D3_prob_lin + D1D4_prob_lin)\n",
      "        gdiag = (D1D3_prob_diag - D1D4_prob_diag)/(D1D3_prob_diag + D1D4_prob_diag)        \n",
      "        \n",
      "        return gdiag/grect\n",
      "    \n",
      "    return np.array([innerfoo() for i in xrange(100)]).mean()"
     ],
     "language": "python",
     "metadata": {},
     "outputs": [],
     "prompt_number": 7
    },
    {
     "cell_type": "code",
     "collapsed": false,
     "input": [
      "plt.plot(np.linspace(0.1, 6, 100), np.array([foo(c) for c in np.linspace(0.1, 6, 100)]))"
     ],
     "language": "python",
     "metadata": {},
     "outputs": [],
     "prompt_number": "*"
    }
   ],
   "metadata": {}
  }
 ]
}